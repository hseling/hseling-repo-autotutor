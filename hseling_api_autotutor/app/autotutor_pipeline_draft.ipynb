{
 "cells": [
  {
   "cell_type": "code",
   "execution_count": null,
   "metadata": {},
   "outputs": [],
   "source": [
    "  203  sudo apt-get install redis\n",
    "  204  redis-server\n",
    "  374  redis-cli\n",
    "  418  redis-server stop\n",
    "  419  /etc/init.d/redis-server stop\n",
    "  420  redis-cli shutdown\n",
    "  421  killall redis-server\n",
    "  422  /opt/redis3/src/redis-cli -p 6379 shutdown\n",
    "  423  ps -ef | grep -i 'redis-server'\n",
    "  424  kill -9 PID owned by redis\n",
    "  425  kill -9 13647 owned by redis\n",
    "  426  sudo kill -9 13647 owned by redis\n",
    "  428  ps -ef | grep -i 'redis-server'\n",
    "  431  ps -ef | grep -i 'redis-server'\n",
    "  432  cd /usr/bin/redis-server\n",
    "  435  /usr/bin/redis-server stop\n",
    "  436  ps -ef | grep -i 'redis-server'\n",
    "  437  src/redis-cli SHUTDOWN NOSAVE\n",
    "  444  redis\n",
    "  445  redis-server\n",
    "  446  redis-server stop\n",
    "  447  sudo redis-server stop\n",
    "  448  /etc/init.d/redis-server restart\n",
    "  449  service redis-server stop\n",
    "  450  killall redis-server\n",
    "  451  redis ping\n",
    "  452  redis-server ping\n",
    "  453  ps -ef | grep -i 'redis-server'\n",
    "  454  redis-cli\n",
    "  455  ps -ef | grep -i 'redis-server'\n",
    "  456  sudo apt-get purge --auto-remove redis-server\n",
    "  467  docker pull redis\n",
    "  468  sudo docker pull redis\n",
    "  670  sudo docker attach redis\n",
    "  672  sudo docker attach redis_latest\n",
    "  673  sudo docker exec redis FLUSHDBALL\n",
    "  675  sudo dcoker run redis\n",
    "  676  sudo docker run redis\n",
    "  677  redis-cli\n",
    "  678  sudo redis-cli\n",
    "  679  sudo docker exec -it dcf9ec9265e0 redis-cli FLUSHALL\n",
    "  680  sudo docker exec -it redis redis-cli FLUSHALL\n",
    "  692  history | redis\n",
    "  693  history | grep redis"
   ]
  },
  {
   "cell_type": "raw",
   "metadata": {},
   "source": [
    "516c1cb9f708        auto                \"/bin/sh -c 'flask r…\"   6 weeks ago         Up 6 weeks          0.0.0.0:5000->5000/tcp   autotutor_api_at_1\n",
    "\n",
    "\n",
    "ae9eff048937        redis               \"docker-entrypoint.s…\"   6 weeks ago         Up 6 weeks          6379/tcp                 autotutor_api_redis_1"
   ]
  },
  {
   "cell_type": "raw",
   "metadata": {},
   "source": [
    "предварительно надо сделать следюущее\n",
    "1) каким-то образом скачать на сервер araneum_none_fasttextcbow_300_5_2018.model и прописать путь к нему в /app/recommendation_logic/text_processing.py\n",
    "2) установить redis чтобы он был активен в бэкграунде\n",
    "3)запустить из autotutor_api >> python3 manage.py runserver\n"
   ]
  },
  {
   "cell_type": "code",
   "execution_count": 1,
   "metadata": {},
   "outputs": [],
   "source": [
    "import requests\n",
    "import json"
   ]
  },
  {
   "cell_type": "markdown",
   "metadata": {},
   "source": [
    "# после того как мы запустили сервер локально в него автоматом подгружается 100 (или какое-то другое число текстов которое мы захотим)"
   ]
  },
  {
   "cell_type": "markdown",
   "metadata": {},
   "source": [
    "# Создаем юзера"
   ]
  },
  {
   "cell_type": "code",
   "execution_count": null,
   "metadata": {},
   "outputs": [],
   "source": [
    "curl --header \"Content-Type: application/json; charset=UTF-8\" --request POST --data '{\"username\":\"pupkin_zalupkin\"}' http://localhost:5000/adduser"
   ]
  },
  {
   "cell_type": "code",
   "execution_count": null,
   "metadata": {},
   "outputs": [],
   "source": []
  },
  {
   "cell_type": "code",
   "execution_count": 75,
   "metadata": {},
   "outputs": [
    {
     "ename": "ConnectionError",
     "evalue": "HTTPConnectionPool(host='localhost', port=5000): Max retries exceeded with url: /adduser (Caused by NewConnectionError('<urllib3.connection.HTTPConnection object at 0x1061f4c88>: Failed to establish a new connection: [Errno 61] Connection refused'))",
     "output_type": "error",
     "traceback": [
      "\u001b[0;31m---------------------------------------------------------------------------\u001b[0m",
      "\u001b[0;31mConnectionRefusedError\u001b[0m                    Traceback (most recent call last)",
      "\u001b[0;32m~/env/lib/python3.7/site-packages/urllib3/connection.py\u001b[0m in \u001b[0;36m_new_conn\u001b[0;34m(self)\u001b[0m\n\u001b[1;32m    158\u001b[0m             conn = connection.create_connection(\n\u001b[0;32m--> 159\u001b[0;31m                 (self._dns_host, self.port), self.timeout, **extra_kw)\n\u001b[0m\u001b[1;32m    160\u001b[0m \u001b[0;34m\u001b[0m\u001b[0m\n",
      "\u001b[0;32m~/env/lib/python3.7/site-packages/urllib3/util/connection.py\u001b[0m in \u001b[0;36mcreate_connection\u001b[0;34m(address, timeout, source_address, socket_options)\u001b[0m\n\u001b[1;32m     79\u001b[0m     \u001b[0;32mif\u001b[0m \u001b[0merr\u001b[0m \u001b[0;32mis\u001b[0m \u001b[0;32mnot\u001b[0m \u001b[0;32mNone\u001b[0m\u001b[0;34m:\u001b[0m\u001b[0;34m\u001b[0m\u001b[0;34m\u001b[0m\u001b[0m\n\u001b[0;32m---> 80\u001b[0;31m         \u001b[0;32mraise\u001b[0m \u001b[0merr\u001b[0m\u001b[0;34m\u001b[0m\u001b[0;34m\u001b[0m\u001b[0m\n\u001b[0m\u001b[1;32m     81\u001b[0m \u001b[0;34m\u001b[0m\u001b[0m\n",
      "\u001b[0;32m~/env/lib/python3.7/site-packages/urllib3/util/connection.py\u001b[0m in \u001b[0;36mcreate_connection\u001b[0;34m(address, timeout, source_address, socket_options)\u001b[0m\n\u001b[1;32m     69\u001b[0m                 \u001b[0msock\u001b[0m\u001b[0;34m.\u001b[0m\u001b[0mbind\u001b[0m\u001b[0;34m(\u001b[0m\u001b[0msource_address\u001b[0m\u001b[0;34m)\u001b[0m\u001b[0;34m\u001b[0m\u001b[0;34m\u001b[0m\u001b[0m\n\u001b[0;32m---> 70\u001b[0;31m             \u001b[0msock\u001b[0m\u001b[0;34m.\u001b[0m\u001b[0mconnect\u001b[0m\u001b[0;34m(\u001b[0m\u001b[0msa\u001b[0m\u001b[0;34m)\u001b[0m\u001b[0;34m\u001b[0m\u001b[0;34m\u001b[0m\u001b[0m\n\u001b[0m\u001b[1;32m     71\u001b[0m             \u001b[0;32mreturn\u001b[0m \u001b[0msock\u001b[0m\u001b[0;34m\u001b[0m\u001b[0;34m\u001b[0m\u001b[0m\n",
      "\u001b[0;31mConnectionRefusedError\u001b[0m: [Errno 61] Connection refused",
      "\nDuring handling of the above exception, another exception occurred:\n",
      "\u001b[0;31mNewConnectionError\u001b[0m                        Traceback (most recent call last)",
      "\u001b[0;32m~/env/lib/python3.7/site-packages/urllib3/connectionpool.py\u001b[0m in \u001b[0;36murlopen\u001b[0;34m(self, method, url, body, headers, retries, redirect, assert_same_host, timeout, pool_timeout, release_conn, chunked, body_pos, **response_kw)\u001b[0m\n\u001b[1;32m    599\u001b[0m                                                   \u001b[0mbody\u001b[0m\u001b[0;34m=\u001b[0m\u001b[0mbody\u001b[0m\u001b[0;34m,\u001b[0m \u001b[0mheaders\u001b[0m\u001b[0;34m=\u001b[0m\u001b[0mheaders\u001b[0m\u001b[0;34m,\u001b[0m\u001b[0;34m\u001b[0m\u001b[0;34m\u001b[0m\u001b[0m\n\u001b[0;32m--> 600\u001b[0;31m                                                   chunked=chunked)\n\u001b[0m\u001b[1;32m    601\u001b[0m \u001b[0;34m\u001b[0m\u001b[0m\n",
      "\u001b[0;32m~/env/lib/python3.7/site-packages/urllib3/connectionpool.py\u001b[0m in \u001b[0;36m_make_request\u001b[0;34m(self, conn, method, url, timeout, chunked, **httplib_request_kw)\u001b[0m\n\u001b[1;32m    353\u001b[0m         \u001b[0;32melse\u001b[0m\u001b[0;34m:\u001b[0m\u001b[0;34m\u001b[0m\u001b[0;34m\u001b[0m\u001b[0m\n\u001b[0;32m--> 354\u001b[0;31m             \u001b[0mconn\u001b[0m\u001b[0;34m.\u001b[0m\u001b[0mrequest\u001b[0m\u001b[0;34m(\u001b[0m\u001b[0mmethod\u001b[0m\u001b[0;34m,\u001b[0m \u001b[0murl\u001b[0m\u001b[0;34m,\u001b[0m \u001b[0;34m**\u001b[0m\u001b[0mhttplib_request_kw\u001b[0m\u001b[0;34m)\u001b[0m\u001b[0;34m\u001b[0m\u001b[0;34m\u001b[0m\u001b[0m\n\u001b[0m\u001b[1;32m    355\u001b[0m \u001b[0;34m\u001b[0m\u001b[0m\n",
      "\u001b[0;32m/Library/Developer/CommandLineTools/Library/Frameworks/Python3.framework/Versions/3.7/lib/python3.7/http/client.py\u001b[0m in \u001b[0;36mrequest\u001b[0;34m(self, method, url, body, headers, encode_chunked)\u001b[0m\n\u001b[1;32m   1228\u001b[0m         \u001b[0;34m\"\"\"Send a complete request to the server.\"\"\"\u001b[0m\u001b[0;34m\u001b[0m\u001b[0;34m\u001b[0m\u001b[0m\n\u001b[0;32m-> 1229\u001b[0;31m         \u001b[0mself\u001b[0m\u001b[0;34m.\u001b[0m\u001b[0m_send_request\u001b[0m\u001b[0;34m(\u001b[0m\u001b[0mmethod\u001b[0m\u001b[0;34m,\u001b[0m \u001b[0murl\u001b[0m\u001b[0;34m,\u001b[0m \u001b[0mbody\u001b[0m\u001b[0;34m,\u001b[0m \u001b[0mheaders\u001b[0m\u001b[0;34m,\u001b[0m \u001b[0mencode_chunked\u001b[0m\u001b[0;34m)\u001b[0m\u001b[0;34m\u001b[0m\u001b[0;34m\u001b[0m\u001b[0m\n\u001b[0m\u001b[1;32m   1230\u001b[0m \u001b[0;34m\u001b[0m\u001b[0m\n",
      "\u001b[0;32m/Library/Developer/CommandLineTools/Library/Frameworks/Python3.framework/Versions/3.7/lib/python3.7/http/client.py\u001b[0m in \u001b[0;36m_send_request\u001b[0;34m(self, method, url, body, headers, encode_chunked)\u001b[0m\n\u001b[1;32m   1274\u001b[0m             \u001b[0mbody\u001b[0m \u001b[0;34m=\u001b[0m \u001b[0m_encode\u001b[0m\u001b[0;34m(\u001b[0m\u001b[0mbody\u001b[0m\u001b[0;34m,\u001b[0m \u001b[0;34m'body'\u001b[0m\u001b[0;34m)\u001b[0m\u001b[0;34m\u001b[0m\u001b[0;34m\u001b[0m\u001b[0m\n\u001b[0;32m-> 1275\u001b[0;31m         \u001b[0mself\u001b[0m\u001b[0;34m.\u001b[0m\u001b[0mendheaders\u001b[0m\u001b[0;34m(\u001b[0m\u001b[0mbody\u001b[0m\u001b[0;34m,\u001b[0m \u001b[0mencode_chunked\u001b[0m\u001b[0;34m=\u001b[0m\u001b[0mencode_chunked\u001b[0m\u001b[0;34m)\u001b[0m\u001b[0;34m\u001b[0m\u001b[0;34m\u001b[0m\u001b[0m\n\u001b[0m\u001b[1;32m   1276\u001b[0m \u001b[0;34m\u001b[0m\u001b[0m\n",
      "\u001b[0;32m/Library/Developer/CommandLineTools/Library/Frameworks/Python3.framework/Versions/3.7/lib/python3.7/http/client.py\u001b[0m in \u001b[0;36mendheaders\u001b[0;34m(self, message_body, encode_chunked)\u001b[0m\n\u001b[1;32m   1223\u001b[0m             \u001b[0;32mraise\u001b[0m \u001b[0mCannotSendHeader\u001b[0m\u001b[0;34m(\u001b[0m\u001b[0;34m)\u001b[0m\u001b[0;34m\u001b[0m\u001b[0;34m\u001b[0m\u001b[0m\n\u001b[0;32m-> 1224\u001b[0;31m         \u001b[0mself\u001b[0m\u001b[0;34m.\u001b[0m\u001b[0m_send_output\u001b[0m\u001b[0;34m(\u001b[0m\u001b[0mmessage_body\u001b[0m\u001b[0;34m,\u001b[0m \u001b[0mencode_chunked\u001b[0m\u001b[0;34m=\u001b[0m\u001b[0mencode_chunked\u001b[0m\u001b[0;34m)\u001b[0m\u001b[0;34m\u001b[0m\u001b[0;34m\u001b[0m\u001b[0m\n\u001b[0m\u001b[1;32m   1225\u001b[0m \u001b[0;34m\u001b[0m\u001b[0m\n",
      "\u001b[0;32m/Library/Developer/CommandLineTools/Library/Frameworks/Python3.framework/Versions/3.7/lib/python3.7/http/client.py\u001b[0m in \u001b[0;36m_send_output\u001b[0;34m(self, message_body, encode_chunked)\u001b[0m\n\u001b[1;32m   1015\u001b[0m         \u001b[0;32mdel\u001b[0m \u001b[0mself\u001b[0m\u001b[0;34m.\u001b[0m\u001b[0m_buffer\u001b[0m\u001b[0;34m[\u001b[0m\u001b[0;34m:\u001b[0m\u001b[0;34m]\u001b[0m\u001b[0;34m\u001b[0m\u001b[0;34m\u001b[0m\u001b[0m\n\u001b[0;32m-> 1016\u001b[0;31m         \u001b[0mself\u001b[0m\u001b[0;34m.\u001b[0m\u001b[0msend\u001b[0m\u001b[0;34m(\u001b[0m\u001b[0mmsg\u001b[0m\u001b[0;34m)\u001b[0m\u001b[0;34m\u001b[0m\u001b[0;34m\u001b[0m\u001b[0m\n\u001b[0m\u001b[1;32m   1017\u001b[0m \u001b[0;34m\u001b[0m\u001b[0m\n",
      "\u001b[0;32m/Library/Developer/CommandLineTools/Library/Frameworks/Python3.framework/Versions/3.7/lib/python3.7/http/client.py\u001b[0m in \u001b[0;36msend\u001b[0;34m(self, data)\u001b[0m\n\u001b[1;32m    955\u001b[0m             \u001b[0;32mif\u001b[0m \u001b[0mself\u001b[0m\u001b[0;34m.\u001b[0m\u001b[0mauto_open\u001b[0m\u001b[0;34m:\u001b[0m\u001b[0;34m\u001b[0m\u001b[0;34m\u001b[0m\u001b[0m\n\u001b[0;32m--> 956\u001b[0;31m                 \u001b[0mself\u001b[0m\u001b[0;34m.\u001b[0m\u001b[0mconnect\u001b[0m\u001b[0;34m(\u001b[0m\u001b[0;34m)\u001b[0m\u001b[0;34m\u001b[0m\u001b[0;34m\u001b[0m\u001b[0m\n\u001b[0m\u001b[1;32m    957\u001b[0m             \u001b[0;32melse\u001b[0m\u001b[0;34m:\u001b[0m\u001b[0;34m\u001b[0m\u001b[0;34m\u001b[0m\u001b[0m\n",
      "\u001b[0;32m~/env/lib/python3.7/site-packages/urllib3/connection.py\u001b[0m in \u001b[0;36mconnect\u001b[0;34m(self)\u001b[0m\n\u001b[1;32m    180\u001b[0m     \u001b[0;32mdef\u001b[0m \u001b[0mconnect\u001b[0m\u001b[0;34m(\u001b[0m\u001b[0mself\u001b[0m\u001b[0;34m)\u001b[0m\u001b[0;34m:\u001b[0m\u001b[0;34m\u001b[0m\u001b[0;34m\u001b[0m\u001b[0m\n\u001b[0;32m--> 181\u001b[0;31m         \u001b[0mconn\u001b[0m \u001b[0;34m=\u001b[0m \u001b[0mself\u001b[0m\u001b[0;34m.\u001b[0m\u001b[0m_new_conn\u001b[0m\u001b[0;34m(\u001b[0m\u001b[0;34m)\u001b[0m\u001b[0;34m\u001b[0m\u001b[0;34m\u001b[0m\u001b[0m\n\u001b[0m\u001b[1;32m    182\u001b[0m         \u001b[0mself\u001b[0m\u001b[0;34m.\u001b[0m\u001b[0m_prepare_conn\u001b[0m\u001b[0;34m(\u001b[0m\u001b[0mconn\u001b[0m\u001b[0;34m)\u001b[0m\u001b[0;34m\u001b[0m\u001b[0;34m\u001b[0m\u001b[0m\n",
      "\u001b[0;32m~/env/lib/python3.7/site-packages/urllib3/connection.py\u001b[0m in \u001b[0;36m_new_conn\u001b[0;34m(self)\u001b[0m\n\u001b[1;32m    167\u001b[0m             raise NewConnectionError(\n\u001b[0;32m--> 168\u001b[0;31m                 self, \"Failed to establish a new connection: %s\" % e)\n\u001b[0m\u001b[1;32m    169\u001b[0m \u001b[0;34m\u001b[0m\u001b[0m\n",
      "\u001b[0;31mNewConnectionError\u001b[0m: <urllib3.connection.HTTPConnection object at 0x1061f4c88>: Failed to establish a new connection: [Errno 61] Connection refused",
      "\nDuring handling of the above exception, another exception occurred:\n",
      "\u001b[0;31mMaxRetryError\u001b[0m                             Traceback (most recent call last)",
      "\u001b[0;32m~/env/lib/python3.7/site-packages/requests/adapters.py\u001b[0m in \u001b[0;36msend\u001b[0;34m(self, request, stream, timeout, verify, cert, proxies)\u001b[0m\n\u001b[1;32m    448\u001b[0m                     \u001b[0mretries\u001b[0m\u001b[0;34m=\u001b[0m\u001b[0mself\u001b[0m\u001b[0;34m.\u001b[0m\u001b[0mmax_retries\u001b[0m\u001b[0;34m,\u001b[0m\u001b[0;34m\u001b[0m\u001b[0;34m\u001b[0m\u001b[0m\n\u001b[0;32m--> 449\u001b[0;31m                     \u001b[0mtimeout\u001b[0m\u001b[0;34m=\u001b[0m\u001b[0mtimeout\u001b[0m\u001b[0;34m\u001b[0m\u001b[0;34m\u001b[0m\u001b[0m\n\u001b[0m\u001b[1;32m    450\u001b[0m                 )\n",
      "\u001b[0;32m~/env/lib/python3.7/site-packages/urllib3/connectionpool.py\u001b[0m in \u001b[0;36murlopen\u001b[0;34m(self, method, url, body, headers, retries, redirect, assert_same_host, timeout, pool_timeout, release_conn, chunked, body_pos, **response_kw)\u001b[0m\n\u001b[1;32m    637\u001b[0m             retries = retries.increment(method, url, error=e, _pool=self,\n\u001b[0;32m--> 638\u001b[0;31m                                         _stacktrace=sys.exc_info()[2])\n\u001b[0m\u001b[1;32m    639\u001b[0m             \u001b[0mretries\u001b[0m\u001b[0;34m.\u001b[0m\u001b[0msleep\u001b[0m\u001b[0;34m(\u001b[0m\u001b[0;34m)\u001b[0m\u001b[0;34m\u001b[0m\u001b[0;34m\u001b[0m\u001b[0m\n",
      "\u001b[0;32m~/env/lib/python3.7/site-packages/urllib3/util/retry.py\u001b[0m in \u001b[0;36mincrement\u001b[0;34m(self, method, url, response, error, _pool, _stacktrace)\u001b[0m\n\u001b[1;32m    398\u001b[0m         \u001b[0;32mif\u001b[0m \u001b[0mnew_retry\u001b[0m\u001b[0;34m.\u001b[0m\u001b[0mis_exhausted\u001b[0m\u001b[0;34m(\u001b[0m\u001b[0;34m)\u001b[0m\u001b[0;34m:\u001b[0m\u001b[0;34m\u001b[0m\u001b[0;34m\u001b[0m\u001b[0m\n\u001b[0;32m--> 399\u001b[0;31m             \u001b[0;32mraise\u001b[0m \u001b[0mMaxRetryError\u001b[0m\u001b[0;34m(\u001b[0m\u001b[0m_pool\u001b[0m\u001b[0;34m,\u001b[0m \u001b[0murl\u001b[0m\u001b[0;34m,\u001b[0m \u001b[0merror\u001b[0m \u001b[0;32mor\u001b[0m \u001b[0mResponseError\u001b[0m\u001b[0;34m(\u001b[0m\u001b[0mcause\u001b[0m\u001b[0;34m)\u001b[0m\u001b[0;34m)\u001b[0m\u001b[0;34m\u001b[0m\u001b[0;34m\u001b[0m\u001b[0m\n\u001b[0m\u001b[1;32m    400\u001b[0m \u001b[0;34m\u001b[0m\u001b[0m\n",
      "\u001b[0;31mMaxRetryError\u001b[0m: HTTPConnectionPool(host='localhost', port=5000): Max retries exceeded with url: /adduser (Caused by NewConnectionError('<urllib3.connection.HTTPConnection object at 0x1061f4c88>: Failed to establish a new connection: [Errno 61] Connection refused'))",
      "\nDuring handling of the above exception, another exception occurred:\n",
      "\u001b[0;31mConnectionError\u001b[0m                           Traceback (most recent call last)",
      "\u001b[0;32m<ipython-input-75-4f424491cebb>\u001b[0m in \u001b[0;36m<module>\u001b[0;34m\u001b[0m\n\u001b[1;32m      1\u001b[0m \u001b[0mheaders\u001b[0m \u001b[0;34m=\u001b[0m \u001b[0;34m{\u001b[0m\u001b[0;34m'Content-Type'\u001b[0m\u001b[0;34m:\u001b[0m \u001b[0;34m'application/json; charset=UTF-8'\u001b[0m\u001b[0;34m}\u001b[0m\u001b[0;34m\u001b[0m\u001b[0;34m\u001b[0m\u001b[0m\n\u001b[1;32m      2\u001b[0m \u001b[0mdata\u001b[0m \u001b[0;34m=\u001b[0m \u001b[0;34m'{\"username\":\"pupkin_zalupkin\"}'\u001b[0m\u001b[0;34m\u001b[0m\u001b[0;34m\u001b[0m\u001b[0m\n\u001b[0;32m----> 3\u001b[0;31m \u001b[0mresponse\u001b[0m \u001b[0;34m=\u001b[0m \u001b[0mrequests\u001b[0m\u001b[0;34m.\u001b[0m\u001b[0mpost\u001b[0m\u001b[0;34m(\u001b[0m\u001b[0;34m'http://localhost:5000/adduser'\u001b[0m\u001b[0;34m,\u001b[0m \u001b[0mheaders\u001b[0m\u001b[0;34m=\u001b[0m\u001b[0mheaders\u001b[0m\u001b[0;34m,\u001b[0m \u001b[0mdata\u001b[0m\u001b[0;34m=\u001b[0m\u001b[0mdata\u001b[0m\u001b[0;34m)\u001b[0m\u001b[0;34m\u001b[0m\u001b[0;34m\u001b[0m\u001b[0m\n\u001b[0m\u001b[1;32m      4\u001b[0m \u001b[0mresponse\u001b[0m\u001b[0;34m.\u001b[0m\u001b[0mjson\u001b[0m\u001b[0;34m(\u001b[0m\u001b[0;34m)\u001b[0m\u001b[0;34m\u001b[0m\u001b[0;34m\u001b[0m\u001b[0m\n",
      "\u001b[0;32m~/env/lib/python3.7/site-packages/requests/api.py\u001b[0m in \u001b[0;36mpost\u001b[0;34m(url, data, json, **kwargs)\u001b[0m\n\u001b[1;32m    114\u001b[0m     \"\"\"\n\u001b[1;32m    115\u001b[0m \u001b[0;34m\u001b[0m\u001b[0m\n\u001b[0;32m--> 116\u001b[0;31m     \u001b[0;32mreturn\u001b[0m \u001b[0mrequest\u001b[0m\u001b[0;34m(\u001b[0m\u001b[0;34m'post'\u001b[0m\u001b[0;34m,\u001b[0m \u001b[0murl\u001b[0m\u001b[0;34m,\u001b[0m \u001b[0mdata\u001b[0m\u001b[0;34m=\u001b[0m\u001b[0mdata\u001b[0m\u001b[0;34m,\u001b[0m \u001b[0mjson\u001b[0m\u001b[0;34m=\u001b[0m\u001b[0mjson\u001b[0m\u001b[0;34m,\u001b[0m \u001b[0;34m**\u001b[0m\u001b[0mkwargs\u001b[0m\u001b[0;34m)\u001b[0m\u001b[0;34m\u001b[0m\u001b[0;34m\u001b[0m\u001b[0m\n\u001b[0m\u001b[1;32m    117\u001b[0m \u001b[0;34m\u001b[0m\u001b[0m\n\u001b[1;32m    118\u001b[0m \u001b[0;34m\u001b[0m\u001b[0m\n",
      "\u001b[0;32m~/env/lib/python3.7/site-packages/requests/api.py\u001b[0m in \u001b[0;36mrequest\u001b[0;34m(method, url, **kwargs)\u001b[0m\n\u001b[1;32m     58\u001b[0m     \u001b[0;31m# cases, and look like a memory leak in others.\u001b[0m\u001b[0;34m\u001b[0m\u001b[0;34m\u001b[0m\u001b[0;34m\u001b[0m\u001b[0m\n\u001b[1;32m     59\u001b[0m     \u001b[0;32mwith\u001b[0m \u001b[0msessions\u001b[0m\u001b[0;34m.\u001b[0m\u001b[0mSession\u001b[0m\u001b[0;34m(\u001b[0m\u001b[0;34m)\u001b[0m \u001b[0;32mas\u001b[0m \u001b[0msession\u001b[0m\u001b[0;34m:\u001b[0m\u001b[0;34m\u001b[0m\u001b[0;34m\u001b[0m\u001b[0m\n\u001b[0;32m---> 60\u001b[0;31m         \u001b[0;32mreturn\u001b[0m \u001b[0msession\u001b[0m\u001b[0;34m.\u001b[0m\u001b[0mrequest\u001b[0m\u001b[0;34m(\u001b[0m\u001b[0mmethod\u001b[0m\u001b[0;34m=\u001b[0m\u001b[0mmethod\u001b[0m\u001b[0;34m,\u001b[0m \u001b[0murl\u001b[0m\u001b[0;34m=\u001b[0m\u001b[0murl\u001b[0m\u001b[0;34m,\u001b[0m \u001b[0;34m**\u001b[0m\u001b[0mkwargs\u001b[0m\u001b[0;34m)\u001b[0m\u001b[0;34m\u001b[0m\u001b[0;34m\u001b[0m\u001b[0m\n\u001b[0m\u001b[1;32m     61\u001b[0m \u001b[0;34m\u001b[0m\u001b[0m\n\u001b[1;32m     62\u001b[0m \u001b[0;34m\u001b[0m\u001b[0m\n",
      "\u001b[0;32m~/env/lib/python3.7/site-packages/requests/sessions.py\u001b[0m in \u001b[0;36mrequest\u001b[0;34m(self, method, url, params, data, headers, cookies, files, auth, timeout, allow_redirects, proxies, hooks, stream, verify, cert, json)\u001b[0m\n\u001b[1;32m    531\u001b[0m         }\n\u001b[1;32m    532\u001b[0m         \u001b[0msend_kwargs\u001b[0m\u001b[0;34m.\u001b[0m\u001b[0mupdate\u001b[0m\u001b[0;34m(\u001b[0m\u001b[0msettings\u001b[0m\u001b[0;34m)\u001b[0m\u001b[0;34m\u001b[0m\u001b[0;34m\u001b[0m\u001b[0m\n\u001b[0;32m--> 533\u001b[0;31m         \u001b[0mresp\u001b[0m \u001b[0;34m=\u001b[0m \u001b[0mself\u001b[0m\u001b[0;34m.\u001b[0m\u001b[0msend\u001b[0m\u001b[0;34m(\u001b[0m\u001b[0mprep\u001b[0m\u001b[0;34m,\u001b[0m \u001b[0;34m**\u001b[0m\u001b[0msend_kwargs\u001b[0m\u001b[0;34m)\u001b[0m\u001b[0;34m\u001b[0m\u001b[0;34m\u001b[0m\u001b[0m\n\u001b[0m\u001b[1;32m    534\u001b[0m \u001b[0;34m\u001b[0m\u001b[0m\n\u001b[1;32m    535\u001b[0m         \u001b[0;32mreturn\u001b[0m \u001b[0mresp\u001b[0m\u001b[0;34m\u001b[0m\u001b[0;34m\u001b[0m\u001b[0m\n",
      "\u001b[0;32m~/env/lib/python3.7/site-packages/requests/sessions.py\u001b[0m in \u001b[0;36msend\u001b[0;34m(self, request, **kwargs)\u001b[0m\n\u001b[1;32m    644\u001b[0m \u001b[0;34m\u001b[0m\u001b[0m\n\u001b[1;32m    645\u001b[0m         \u001b[0;31m# Send the request\u001b[0m\u001b[0;34m\u001b[0m\u001b[0;34m\u001b[0m\u001b[0;34m\u001b[0m\u001b[0m\n\u001b[0;32m--> 646\u001b[0;31m         \u001b[0mr\u001b[0m \u001b[0;34m=\u001b[0m \u001b[0madapter\u001b[0m\u001b[0;34m.\u001b[0m\u001b[0msend\u001b[0m\u001b[0;34m(\u001b[0m\u001b[0mrequest\u001b[0m\u001b[0;34m,\u001b[0m \u001b[0;34m**\u001b[0m\u001b[0mkwargs\u001b[0m\u001b[0;34m)\u001b[0m\u001b[0;34m\u001b[0m\u001b[0;34m\u001b[0m\u001b[0m\n\u001b[0m\u001b[1;32m    647\u001b[0m \u001b[0;34m\u001b[0m\u001b[0m\n\u001b[1;32m    648\u001b[0m         \u001b[0;31m# Total elapsed time of the request (approximately)\u001b[0m\u001b[0;34m\u001b[0m\u001b[0;34m\u001b[0m\u001b[0;34m\u001b[0m\u001b[0m\n",
      "\u001b[0;32m~/env/lib/python3.7/site-packages/requests/adapters.py\u001b[0m in \u001b[0;36msend\u001b[0;34m(self, request, stream, timeout, verify, cert, proxies)\u001b[0m\n\u001b[1;32m    514\u001b[0m                 \u001b[0;32mraise\u001b[0m \u001b[0mSSLError\u001b[0m\u001b[0;34m(\u001b[0m\u001b[0me\u001b[0m\u001b[0;34m,\u001b[0m \u001b[0mrequest\u001b[0m\u001b[0;34m=\u001b[0m\u001b[0mrequest\u001b[0m\u001b[0;34m)\u001b[0m\u001b[0;34m\u001b[0m\u001b[0;34m\u001b[0m\u001b[0m\n\u001b[1;32m    515\u001b[0m \u001b[0;34m\u001b[0m\u001b[0m\n\u001b[0;32m--> 516\u001b[0;31m             \u001b[0;32mraise\u001b[0m \u001b[0mConnectionError\u001b[0m\u001b[0;34m(\u001b[0m\u001b[0me\u001b[0m\u001b[0;34m,\u001b[0m \u001b[0mrequest\u001b[0m\u001b[0;34m=\u001b[0m\u001b[0mrequest\u001b[0m\u001b[0;34m)\u001b[0m\u001b[0;34m\u001b[0m\u001b[0;34m\u001b[0m\u001b[0m\n\u001b[0m\u001b[1;32m    517\u001b[0m \u001b[0;34m\u001b[0m\u001b[0m\n\u001b[1;32m    518\u001b[0m         \u001b[0;32mexcept\u001b[0m \u001b[0mClosedPoolError\u001b[0m \u001b[0;32mas\u001b[0m \u001b[0me\u001b[0m\u001b[0;34m:\u001b[0m\u001b[0;34m\u001b[0m\u001b[0;34m\u001b[0m\u001b[0m\n",
      "\u001b[0;31mConnectionError\u001b[0m: HTTPConnectionPool(host='localhost', port=5000): Max retries exceeded with url: /adduser (Caused by NewConnectionError('<urllib3.connection.HTTPConnection object at 0x1061f4c88>: Failed to establish a new connection: [Errno 61] Connection refused'))"
     ]
    }
   ],
   "source": [
    "headers = {'Content-Type': 'application/json; charset=UTF-8'}\n",
    "data = '{\"username\":\"pupkin_zalupkin\"}'\n",
    "response = requests.post('http://localhost:5000/adduser', headers=headers, data=data)\n",
    "response.json()"
   ]
  },
  {
   "cell_type": "code",
   "execution_count": 26,
   "metadata": {},
   "outputs": [],
   "source": [
    "data = '{\"username\":\"vvp\"}'\n",
    "response = requests.post('http://localhost:5000/adduser', headers=headers, data=data)"
   ]
  },
  {
   "cell_type": "code",
   "execution_count": 27,
   "metadata": {},
   "outputs": [
    {
     "data": {
      "text/plain": [
       "'{\"status\":\"username created\"}\\n'"
      ]
     },
     "execution_count": 27,
     "metadata": {},
     "output_type": "execute_result"
    }
   ],
   "source": [
    "response.text"
   ]
  },
  {
   "cell_type": "code",
   "execution_count": 76,
   "metadata": {},
   "outputs": [
    {
     "data": {
      "text/plain": [
       "'{\"status\":\"username created\"}\\n'"
      ]
     },
     "execution_count": 76,
     "metadata": {},
     "output_type": "execute_result"
    }
   ],
   "source": [
    "import requests\n",
    "import json\n",
    "headers = {'Content-Type': 'application/json; charset=UTF-8'}\n",
    "data = '{\"username\":\"pupkin_zalupkin\"}'\n",
    "data = '{\"username\":\"user1\"}'\n",
    "response = requests.post('http://84.201.188.33:5000/adduser', headers=headers, data=data)\n",
    "response.text"
   ]
  },
  {
   "cell_type": "markdown",
   "metadata": {},
   "source": [
    "#  получаем тесты для юзера"
   ]
  },
  {
   "cell_type": "code",
   "execution_count": null,
   "metadata": {},
   "outputs": [],
   "source": [
    "curl --header \"Content-Type: application/json; charset=UTF-8\" --request GET --data '{ \"user_id\":\"pupkin_zalupkin\"}' http://localhost:5000/gettest\n"
   ]
  },
  {
   "cell_type": "code",
   "execution_count": null,
   "metadata": {},
   "outputs": [],
   "source": []
  },
  {
   "cell_type": "code",
   "execution_count": 77,
   "metadata": {},
   "outputs": [
    {
     "data": {
      "text/plain": [
       "{'text_maps_music_15': {'questions': [{'sent_ind': 13,\n",
       "    'sent_text': 'Ее место заняла певица Эдит Фрэнсис'},\n",
       "   {'sent_ind': 12, 'sent_text': 'Гласс покинула группу в конце 2014 года'},\n",
       "   {'sent_ind': 11,\n",
       "    'sent_text': 'Вместе они записали такие хиты как Not in Love с участием Роберта Смита из The Cure Alice Practice Crimewave Knights и Baptism'},\n",
       "   {'sent_ind': 10,\n",
       "    'sent_text': 'Элис Гласс и Итан Кэт основали Crystal Castles в 2003 году'},\n",
       "   {'sent_ind': 2,\n",
       "    'sent_text': 'Певица заявила что подвергалась психологическому и физическому насилию со стороны Кэта на протяжении десяти лет'}],\n",
       "  'whole_text': 'Основательница и бывшая солистка дуэта Crystal Castles Элис Гласс (настоящее имя Маргарет Осборн) обвинила участника группы Итана Кэта (Клаудио Палмьери) в изнасиловании. Об этом пишет портал Vulture. Певица заявила, что подвергалась психологическому и физическому насилию со стороны Кэта на протяжении десяти лет. Началось это практически с момента их знакомства, когда ей было пятнадцать. «Он унижал меня и кричал на меня, утверждал, что я просто шутка, что люди приходят на наши концерты только из-за его музыки и что я тяну группу вниз. Он разбил стеклянную дверь душа, чтобы меня напугать, он держал меня взаперти», — поведала Гласс. По словам 29-летней артистки, Кэт изнасиловал ее, используя шантаж. «Он принудил меня к сексу, сказав, что в противном случае выгонит меня из группы», — заявила Гласс. Исполнительница объяснила, что боялась публично рассказывать о произошедшем. Она приняла решение открыться после секс-скандала, развернувшегося вокруг продюсера Харви Вайнштейна. На его домогательства пожаловались, в частности, актрисы Кара Делевинь, Леа Сейду и Анджелина Джоли. На фоне их признаний множество других голливудских знаменитостей и певиц стали рассказывать о приставаниях и изнасилованиях. Элис Гласс и Итан Кэт основали Crystal Castles в 2003 году. Вместе они записали такие хиты, как Not in Love (с участием Роберта Смита из The Cure), Alice Practice, Crimewave, Knights и Baptism. Гласс покинула группу в конце 2014 года. Ее место заняла певица Эдит Фрэнсис.'}}"
      ]
     },
     "execution_count": 77,
     "metadata": {},
     "output_type": "execute_result"
    }
   ],
   "source": [
    "headers = {\n",
    "    'Content-Type': 'application/json; charset=UTF-8',\n",
    "}\n",
    "\n",
    "data = '{ \"user_id\":\"pupkin_zalupkin\"}'\n",
    "data = '{ \"user_id\":\"user1\"}'\n",
    "\n",
    "\n",
    "local = 'http://localhost:5000/gettest'\n",
    "remote = 'http://84.201.188.33:5000/gettest'\n",
    "response = requests.get(remote, headers=headers, data=data)\n",
    "response.json()"
   ]
  },
  {
   "cell_type": "code",
   "execution_count": 57,
   "metadata": {},
   "outputs": [],
   "source": [
    "import requests\n",
    "import json\n",
    "headers = {\n",
    "    'Content-Type': 'application/json; charset=UTF-8',\n",
    "}\n",
    "\n",
    "data = '{ \"user_id\":\"pupkin_zalupkin\"}'\n",
    "\n",
    "response = requests.get('http://84.201.188.33:5000/gettest', headers=headers, data=data)"
   ]
  },
  {
   "cell_type": "code",
   "execution_count": 58,
   "metadata": {
    "scrolled": false
   },
   "outputs": [
    {
     "data": {
      "text/plain": [
       "{'text_maps_music_4': {'questions': [{'sent_ind': 7,\n",
       "    'sent_text': 'Понятно ли вам предложение « Он поступил в продажу 24 сентября »'},\n",
       "   {'sent_ind': 10,\n",
       "    'sent_text': 'Понятно ли вам предложение « Она вошла в альбом «Help »'},\n",
       "   {'sent_ind': 3,\n",
       "    'sent_text': 'Понятно ли вам предложение « Он процитировал припев песни «Почему ей пришлось уйти »'},\n",
       "   {'sent_ind': 9,\n",
       "    'sent_text': 'Понятно ли вам предложение « Однако The Beatles записали композицию лишь в 1965 году »'},\n",
       "   {'sent_ind': 12,\n",
       "    'sent_text': 'Понятно ли вам предложение « В настоящее время 71-летний Пол Маккартни готовит к релизу свой новый сольный альбом который носит название «New» »'}],\n",
       "  'whole_text': 'Пол Маккартни рассказал об источнике вдохновения для песни «Yesterday», которую он написал для The Beatles. Как пишет Gigwise со ссылкой на интервью певца журналу Mojo, на создание композиции Маккартни вдохновила его мать. Певец, однако, отметил, что до последнего времени он не осознавал, что «Yesterday» на самом деле посвящена его матери. Он процитировал припев песни («Почему ей пришлось уйти? Я не знаю, а она не расскажет. Я сказал что-то не так...») и отметил, что, возможно, этим вопросом следовало бы заняться психиатру. Интервью с Полом Маккартни вышло в последнем номере журнала Mojo. Он поступил в продажу 24 сентября. Пол Маккартни написал песню «Yesterday», посвященную расставанию, еще в 1964 году. Однако The Beatles записали композицию лишь в 1965 году. Она вошла в альбом «Help!». За прошедшие 48 лет на «Yesterday» было записано более двух тысяч каверов, а сама песня вошла в Зал славы премии «Грэмми». В настоящее время 71-летний Пол Маккартни готовит к релизу свой новый сольный альбом, который носит название «New». Его выход запланирован на 14 октября 2013 года. В конце августа певец представил первый сингл с альбома, который также называется «New». '}}"
      ]
     },
     "execution_count": 58,
     "metadata": {},
     "output_type": "execute_result"
    }
   ],
   "source": [
    "json.loads(response.text)"
   ]
  },
  {
   "cell_type": "markdown",
   "metadata": {},
   "source": [
    "# GET RECOMMENDATIONS"
   ]
  },
  {
   "cell_type": "code",
   "execution_count": 34,
   "metadata": {
    "scrolled": true
   },
   "outputs": [
    {
     "data": {
      "text/plain": [
       "'<!DOCTYPE HTML PUBLIC \"-//W3C//DTD HTML 3.2 Final//EN\">\\n<title>404 Not Found</title>\\n<h1>Not Found</h1>\\n<p>The requested URL was not found on the server. If you entered the URL manually please check your spelling and try again.</p>\\n'"
      ]
     },
     "execution_count": 34,
     "metadata": {},
     "output_type": "execute_result"
    }
   ],
   "source": [
    "import requests\n",
    "import json\n",
    "headers = {\n",
    "    'Content-Type': 'application/json; charset=UTF-8',\n",
    "}\n",
    "\n",
    "data = '{ \"user_id\":\"pupkin_zalupkin\"}'\n",
    "\n",
    "REMOTE = 'http://84.201.188.33:5000/getrecommend'\n",
    "LOCAL = 'http://localhost:5000/getrecommend'\n",
    "\n",
    "# response = requests.get(LOCAL, headers=headers, data=data)\n",
    "\n",
    "response = requests.post(LOCAL, headers=headers, data=data)\n",
    "response.text"
   ]
  },
  {
   "cell_type": "code",
   "execution_count": 70,
   "metadata": {},
   "outputs": [],
   "source": [
    "answers_json = {'user_id': 'user1',\n",
    "                    'answers': {\"text_maps_music_4\": {0: True, 2: False, 5: False}, \"text_maps_music_0\": {0: True, 2: False, 5: False}, \"text_maps_music_1\": {0: True, 2: False, 5: False}}}\n",
    "answers_json = json.dumps(answers_json)"
   ]
  },
  {
   "cell_type": "code",
   "execution_count": 78,
   "metadata": {},
   "outputs": [
    {
     "data": {
      "text/plain": [
       "'null'"
      ]
     },
     "execution_count": 78,
     "metadata": {},
     "output_type": "execute_result"
    }
   ],
   "source": [
    "local = 'http://127.0.0.1:5000/send_test_results'\n",
    "remote =  'http://84.201.188.33:5000/send_test_results'\n",
    "response = requests.post(remote, headers=headers, data=answers_json)\n",
    "response.text"
   ]
  },
  {
   "cell_type": "code",
   "execution_count": null,
   "metadata": {},
   "outputs": [],
   "source": []
  },
  {
   "cell_type": "code",
   "execution_count": 79,
   "metadata": {},
   "outputs": [
    {
     "data": {
      "text/plain": [
       "'[{\"recommended\": {\"text_ind\": \"text_maps_music_11\", \"raw_text\": \"В финал конкурса по выбору города, где в 2017 году пройдет финал «Евровидения», вышли Киев, Днепр и Одесса. Об этом сообщили в оргкомитете музыкального шоу, передает в пятницу, 22 июля, РИА Новости. По словам главы украинского Минкульта Евгения Нищука, победитель конкурса станет известен 27 июля. Кроме Киева, Днепра, Одессы и Львова, за выход в финал конкурса по выбору города боролись также Харьков и Херсон. 19 июля были обнародованы результаты опроса, проведенного среди жителей Украины, на тему разумности организации «Евровидения» в стране. Почти треть респондентов ответила отрицательно, однако 49 процентов уверены, что стоит принять конкурс. Большинство опрошенных высказались за проведение шоу в Киеве (42 процента) или Львове (27 процентов). 30 июня украинские власти признали, что в стране отсутствует зал, подходящий для проведения «Евровидения». В Минкульте пояснили, что установка временной крыши на Олимпийском стадионе в Киеве не позволит подвесить под ней тяжелое оборудование. В связи с этим правительство допустило возможность строительства новой арены во Львове или в Киеве на берегу Днепра. Финал «Евровидения-2016» состоялся в Стокгольме 14 мая. Первое место заняла представительница Украины Джамала с песней «1944» о депортации крымских татар, второе — выступавшая от Австралии Дэми Им, третье — россиянин Сергей Лазарев. Согласно правилам конкурса, в следующем году «Евровидение» примет Украина.\"}, \"non_recommended\": {\"text_ind\": \"text_maps_music_14\", \"raw_text\": \"Российский музыкант и лидер группы «Машина времени» Андрей Макаревич представил новую песню «Тільки любов залишить тебе живим», записанную вместе с украинской группой «Гайдамаки» и польским исполнителем Мацеем Маленчуком, передают Podrobnosti.ua. Композиция исполнена на трех языках — русском, украинском и польском. Издание сообщает, что именно Макаревич стал автором названия, которое переводится на русский как «Только любовь заставит остаться в живых». В песне, среди прочего, из уст Макаревича звучит фраза: «Я видел дракона с тысячью пастей, имя которому власть».  Песня стала уже второй за неделю, выпущенной Макаревичем. 16 июля он обнародовал композицию без названия, которая вызвала большой резонанс из-за строчки «Но как же послушно стали глистами бывшие братья мои». Кого подразумевал автор, осталось неизвестно. Летом 2014-го лидер «Машины времени» провел несколько благотворительных концертов на Украине. Кроме того, он неоднократно высказывался против итогов референдума о присоединении Крыма. После этого его выступления в российских городах стали срывать и отменять. Макаревич создал группу «Машина времени», которая стала одним из самых популярных советских и российских рок-коллективов, в 1969 году. В ее составе музыкант выпустил 11 альбомов (последний — в 2009 году).\"}}, {\"recommended\": {\"text_ind\": \"text_maps_music_8\", \"raw_text\": \"Министр обороны России Сергей Шойгу решил присвоить Московскому военно-музыкальному училищу имя погибшего при крушении самолета Ту-154 генерал-лейтенанта Валерия Халилова, художественного руководителя ансамбля Александрова. Об этом сообщается на сайте ведомства в понедельник, 26\\xa0декабря. В министерстве также добавили, что в здании музыкального коллектива, расположенном в Москве, действует оперативный штаб, где семьям погибших оказывается вся необходимая помощь. «Родственникам каждого военнослужащего и гражданских служащих Минобороны будет выплачена компенсация в размере 5,8 миллиона рублей», — отмечается в заявлении. Губернатор Подмосковья Андрей Воробьев поручил оказать помощь семьям погибших в результате авиакатастрофы. Выплаты составят по миллиону рублей, передает телеканал «360». 25 декабря сообщалось, что на разбившемся самолете находился бывший бэк-вокалист группы «Любэ» Евгений Насибулин. Ранее в тот же день народный артист России и основатель «Хора Турецкого» Михаил Турецкий предложил сохранить ансамбль. В Минобороны пообещали, что музыкальный коллектив будет жить и оставаться символом армии и России. Направлявшийся в Сирию самолет Ту-154Б-2 упал утром 25 декабря вскоре после вылета из Сочи. В результате погибли 92 человека: 84 пассажира и 8 членов экипажа. На борту находились артисты академического ансамбля песни и пляски Российской армии имени Александрова, журналисты, военнослужащие, исполнительный директор фонда «Справедливая помощь» Елизавета Глинка, известная как Доктор Лиза. 26 декабря объявлен в России днем общенационального траура.\"}, \"non_recommended\": {\"text_ind\": \"text_maps_music_3\", \"raw_text\": \"Британский музыкант Дэвид Боуи подготовил ряд музыкальных композиций, которые должны будут выйти после его смерти. Об этом сообщает в воскресенье, 24 января, The Independent. Релиз первого трека может состояться в 2017 году. По информации издания, песни могут выходить не в том порядке, в котором они были записаны. Издание отмечает, что свежие композиции могут составить новый альбом или даже несколько пластинок 18 января СМИ сообщили, что последний студийный альбом музыканта Blackstar, вышедший за два дня до его смерти, 8 января 2016 года, возглавил чарты российского iTunes, сместив пластинку Адель «25» на второе место. Композитор, певец, актер и художник Дэвид Боуи умер 10 января, спустя два дня после своего 69-летия. Полтора года артист боролся с раком печени. 14 января стало известно, что тело Боуи тайно кремировали в Нью-Йорке. Ни члены семьи, ни близкие друзья не присутствовали во время церемонии. За свою жизнь Боуи выпустил около 30 альбомов, среди которых The Rise and Fall of Ziggy Stardust and the Spiders from Mars, Young Americans, Heroes, 1 Outside. В фильмографии Боуи такие фильмы, как «Человек, который упал на землю», «Голод», «Лабиринт» и «Твин Пикс: Сквозь огонь» (приквел к сериалу «Твин Пикс»).\"}}, {\"recommended\": {\"text_ind\": \"text_maps_music_7\", \"raw_text\": \"Певица Тина Тернер официально отказалась от\\xa0гражданства США. Об\\xa0этом сообщает The Wаshington Post 12 ноября со\\xa0ссылкой на\\xa0американское посольство в\\xa0Берне. Как стало известно изданию, исполнительница еще 24\\xa0октября 2013 года посетила посольство, чтобы принять гражданство Швейцарии, где проживает на\\xa0протяжении последних двадцати лет. Певица подала заявление на\\xa0получение швейцарского гражданства в\\xa0апреле 2013-го. Сообщается, что при получении гражданства европейской страны певица подписала соглашение об\\xa0отказе от\\xa0гражданства США. Согласно пункту 349 (а) (5) Закона Соединенных Штатов об\\xa0иммиграции и\\xa0гражданстве, утрата гражданства происходит автоматически при принятии гражданства другой страны. Это, в\\xa0отличие от\\xa0обычного отказа от гражданства, освобождает певицу от\\xa0уплаты ряда налогов и\\xa0штрафных санкций, передает издание. Тина Тернер переехала в\\xa0Европу в\\xa01986\\xa0году. Певица жила в\\xa0Лондоне, затем в\\xa0Кельне и\\xa0Ницце, с\\xa01994 года она проживает в\\xa0швейцарском городе Кюснахт неподалеку от\\xa0Цюриха. О\\xa0том, что певица собирается принять швейцарское гражданство вместо американского, стало впервые известно в\\xa0январе 2013\\xa0года. 74-летняя поп- и\\xa0соул-певица, танцовщица, актриса и\\xa0автор песен Тина Тернер является одной из\\xa0самых популярных исполнительниц в\\xa0мире. Она восемь раз становилась обладательницей «Грэмми», включена в\\xa0Зал славы «Грэмми» и\\xa0в\\xa0сотню лучших певцов всех времен по\\xa0версии журнала Rolling Stone. Последний концертный тур певицы состоялся в\\xa02008 году после почти десятилетнего перерыва. Концертные записи тура, посвященного 50-летию музыкальной карьеры певицы, были изданы на\\xa0CD и\\xa0DVD.\"}, \"non_recommended\": {\"text_ind\": \"text_maps_music_10\", \"raw_text\": \"Котельная на Английской набережной в Санкт-Петербурге, в которой бессменно работали писатели, художники и музыканты с начала 80-х годов, закроется навсегда после майских выходных. В конце прошлого века в Петербурге было около 500 котельных, и примерно в каждой десятой трудился кто-то из художников или писателей, рассказал «Ленте.ру» поэт Дмитрий Григорьев. Он проработал истопником в котельной на Английской набережной более 30 лет, но теперь его обязанности будет выполнять автоматический модуль. «Много кто работал и в моей котельной, например, Митя Шагин (основатель и идеолог движения «митьков» — прим. «Ленты.ру»). Тут было сложно — нужно было оканчивать курсы, отучиться в ПТУ и так далее. А Цой работал в угольной котельной для самых простых, где не нужно было ничему учиться. Поэтому он туда и устроился, там была халява. Это редкий случай, в 80-х угольных котельных уже было мало, не знаю, как она сохранилась на Петроградке. Был период, когда мы получали больше, чем профессор университета. Но истопники не нужны больше». Котельная, где работал Виктор Цой, в мифологии питерского андерграунда известна под названием «Камчатка». Сейчас в том же здании находится одноименный клуб, которым руководит известный деятель ленинградского рок-клуба Сергей Фирсов. Дмитрий Григорьев печатался с начала 80-х годов в Самиздате, затем в толстых литературных журналах. Автор 12 книг, последняя, путеводитель по Гималаям, вышла в издательстве «Амфора» в 2012 году. Все это время он был трудоустроен истопником.\"}}, {\"recommended\": {\"text_ind\": \"text_maps_music_10\", \"raw_text\": \"Котельная на Английской набережной в Санкт-Петербурге, в которой бессменно работали писатели, художники и музыканты с начала 80-х годов, закроется навсегда после майских выходных. В конце прошлого века в Петербурге было около 500 котельных, и примерно в каждой десятой трудился кто-то из художников или писателей, рассказал «Ленте.ру» поэт Дмитрий Григорьев. Он проработал истопником в котельной на Английской набережной более 30 лет, но теперь его обязанности будет выполнять автоматический модуль. «Много кто работал и в моей котельной, например, Митя Шагин (основатель и идеолог движения «митьков» — прим. «Ленты.ру»). Тут было сложно — нужно было оканчивать курсы, отучиться в ПТУ и так далее. А Цой работал в угольной котельной для самых простых, где не нужно было ничему учиться. Поэтому он туда и устроился, там была халява. Это редкий случай, в 80-х угольных котельных уже было мало, не знаю, как она сохранилась на Петроградке. Был период, когда мы получали больше, чем профессор университета. Но истопники не нужны больше». Котельная, где работал Виктор Цой, в мифологии питерского андерграунда известна под названием «Камчатка». Сейчас в том же здании находится одноименный клуб, которым руководит известный деятель ленинградского рок-клуба Сергей Фирсов. Дмитрий Григорьев печатался с начала 80-х годов в Самиздате, затем в толстых литературных журналах. Автор 12 книг, последняя, путеводитель по Гималаям, вышла в издательстве «Амфора» в 2012 году. Все это время он был трудоустроен истопником.\"}, \"non_recommended\": {\"text_ind\": \"text_maps_music_7\", \"raw_text\": \"Певица Тина Тернер официально отказалась от\\xa0гражданства США. Об\\xa0этом сообщает The Wаshington Post 12 ноября со\\xa0ссылкой на\\xa0американское посольство в\\xa0Берне. Как стало известно изданию, исполнительница еще 24\\xa0октября 2013 года посетила посольство, чтобы принять гражданство Швейцарии, где проживает на\\xa0протяжении последних двадцати лет. Певица подала заявление на\\xa0получение швейцарского гражданства в\\xa0апреле 2013-го. Сообщается, что при получении гражданства европейской страны певица подписала соглашение об\\xa0отказе от\\xa0гражданства США. Согласно пункту 349 (а) (5) Закона Соединенных Штатов об\\xa0иммиграции и\\xa0гражданстве, утрата гражданства происходит автоматически при принятии гражданства другой страны. Это, в\\xa0отличие от\\xa0обычного отказа от гражданства, освобождает певицу от\\xa0уплаты ряда налогов и\\xa0штрафных санкций, передает издание. Тина Тернер переехала в\\xa0Европу в\\xa01986\\xa0году. Певица жила в\\xa0Лондоне, затем в\\xa0Кельне и\\xa0Ницце, с\\xa01994 года она проживает в\\xa0швейцарском городе Кюснахт неподалеку от\\xa0Цюриха. О\\xa0том, что певица собирается принять швейцарское гражданство вместо американского, стало впервые известно в\\xa0январе 2013\\xa0года. 74-летняя поп- и\\xa0соул-певица, танцовщица, актриса и\\xa0автор песен Тина Тернер является одной из\\xa0самых популярных исполнительниц в\\xa0мире. Она восемь раз становилась обладательницей «Грэмми», включена в\\xa0Зал славы «Грэмми» и\\xa0в\\xa0сотню лучших певцов всех времен по\\xa0версии журнала Rolling Stone. Последний концертный тур певицы состоялся в\\xa02008 году после почти десятилетнего перерыва. Концертные записи тура, посвященного 50-летию музыкальной карьеры певицы, были изданы на\\xa0CD и\\xa0DVD.\"}}, {\"recommended\": {\"text_ind\": \"text_maps_music_3\", \"raw_text\": \"Британский музыкант Дэвид Боуи подготовил ряд музыкальных композиций, которые должны будут выйти после его смерти. Об этом сообщает в воскресенье, 24 января, The Independent. Релиз первого трека может состояться в 2017 году. По информации издания, песни могут выходить не в том порядке, в котором они были записаны. Издание отмечает, что свежие композиции могут составить новый альбом или даже несколько пластинок 18 января СМИ сообщили, что последний студийный альбом музыканта Blackstar, вышедший за два дня до его смерти, 8 января 2016 года, возглавил чарты российского iTunes, сместив пластинку Адель «25» на второе место. Композитор, певец, актер и художник Дэвид Боуи умер 10 января, спустя два дня после своего 69-летия. Полтора года артист боролся с раком печени. 14 января стало известно, что тело Боуи тайно кремировали в Нью-Йорке. Ни члены семьи, ни близкие друзья не присутствовали во время церемонии. За свою жизнь Боуи выпустил около 30 альбомов, среди которых The Rise and Fall of Ziggy Stardust and the Spiders from Mars, Young Americans, Heroes, 1 Outside. В фильмографии Боуи такие фильмы, как «Человек, который упал на землю», «Голод», «Лабиринт» и «Твин Пикс: Сквозь огонь» (приквел к сериалу «Твин Пикс»).\"}, \"non_recommended\": {\"text_ind\": \"text_maps_music_8\", \"raw_text\": \"Министр обороны России Сергей Шойгу решил присвоить Московскому военно-музыкальному училищу имя погибшего при крушении самолета Ту-154 генерал-лейтенанта Валерия Халилова, художественного руководителя ансамбля Александрова. Об этом сообщается на сайте ведомства в понедельник, 26\\xa0декабря. В министерстве также добавили, что в здании музыкального коллектива, расположенном в Москве, действует оперативный штаб, где семьям погибших оказывается вся необходимая помощь. «Родственникам каждого военнослужащего и гражданских служащих Минобороны будет выплачена компенсация в размере 5,8 миллиона рублей», — отмечается в заявлении. Губернатор Подмосковья Андрей Воробьев поручил оказать помощь семьям погибших в результате авиакатастрофы. Выплаты составят по миллиону рублей, передает телеканал «360». 25 декабря сообщалось, что на разбившемся самолете находился бывший бэк-вокалист группы «Любэ» Евгений Насибулин. Ранее в тот же день народный артист России и основатель «Хора Турецкого» Михаил Турецкий предложил сохранить ансамбль. В Минобороны пообещали, что музыкальный коллектив будет жить и оставаться символом армии и России. Направлявшийся в Сирию самолет Ту-154Б-2 упал утром 25 декабря вскоре после вылета из Сочи. В результате погибли 92 человека: 84 пассажира и 8 членов экипажа. На борту находились артисты академического ансамбля песни и пляски Российской армии имени Александрова, журналисты, военнослужащие, исполнительный директор фонда «Справедливая помощь» Елизавета Глинка, известная как Доктор Лиза. 26 декабря объявлен в России днем общенационального траура.\"}}]'"
      ]
     },
     "execution_count": 79,
     "metadata": {},
     "output_type": "execute_result"
    }
   ],
   "source": [
    "headers = {'Content-Type': 'application/json; charset=UTF-8'}\n",
    "data = '{ \"user_id\":\"user1\"}'\n",
    "local = 'http://127.0.0.1:5000/get_recommendation'\n",
    "remote = 'http://84.201.188.33:5000/get_recommendation'\n",
    "response = requests.get(remote, headers=headers, data=data)\n",
    "response.text"
   ]
  },
  {
   "cell_type": "code",
   "execution_count": 35,
   "metadata": {},
   "outputs": [
    {
     "data": {
      "text/plain": [
       "'[{\"recommended\": {\"marked_easier\": true}, \"non_recommended\": {\"marked_easier\": false}}, {\"recommended\": {\"marked_easier\": true}, \"non_recommended\": {\"marked_easier\": false}}, {\"recommended\": {\"marked_easier\": true}, \"non_recommended\": {\"marked_easier\": false}}, {\"recommended\": {\"marked_easier\": true}, \"non_recommended\": {\"marked_easier\": false}}, {\"recommended\": {\"marked_easier\": false}, \"non_recommended\": {\"marked_easier\": true}}]'"
      ]
     },
     "execution_count": 35,
     "metadata": {},
     "output_type": "execute_result"
    }
   ],
   "source": [
    "json.dumps(student_evaluation_json)"
   ]
  },
  {
   "cell_type": "code",
   "execution_count": 51,
   "metadata": {},
   "outputs": [],
   "source": [
    "user_id = \"pupkin_zalupkin\"\n",
    "student_evaluation_json = [\n",
    "    {\n",
    "        \"recommended\": {\n",
    "            \"marked_easier\": True,\n",
    "        },\n",
    "        \"non_recommended\": {\n",
    "            \"marked_easier\": False,\n",
    "        }\n",
    "    },\n",
    "    {\n",
    "        \"recommended\": {\n",
    "            \"marked_easier\": True,\n",
    "        },\n",
    "        \"non_recommended\": {\n",
    "            \"marked_easier\": False,\n",
    "        }\n",
    "    },\n",
    "    {\n",
    "        \"recommended\": {\n",
    "            \"marked_easier\": True,\n",
    "        },\n",
    "        \"non_recommended\": {\n",
    "            \"marked_easier\": False,\n",
    "        }\n",
    "    },\n",
    "    {\n",
    "        \"recommended\": {\n",
    "            \"marked_easier\": True,\n",
    "        },\n",
    "        \"non_recommended\": {\n",
    "            \"marked_easier\": False,\n",
    "        }\n",
    "    },\n",
    "    {\n",
    "        \"recommended\": {\n",
    "            \"marked_easier\": False,\n",
    "        },\n",
    "        \"non_recommended\": {\n",
    "            \"marked_easier\": True,\n",
    "        }\n",
    "    }\n",
    "]"
   ]
  },
  {
   "cell_type": "code",
   "execution_count": 86,
   "metadata": {},
   "outputs": [
    {
     "data": {
      "text/plain": [
       "'null'"
      ]
     },
     "execution_count": 86,
     "metadata": {},
     "output_type": "execute_result"
    }
   ],
   "source": [
    "ev_rec_json = {\"user_id\":\"pupkin_zalupkin\", \"student_evaluation_json\":student_evaluation_json}\n",
    "ev_rec_json = json.dumps(ev_rec_json)\n",
    "local = 'http://127.0.0.1:5000/evaluate_recommended_texts'\n",
    "remote = 'http://84.201.188.33:5000/evaluate_recommended_texts'\n",
    "response = requests.post(remote, data = ev_rec_json,  headers=headers)\n",
    "response.text"
   ]
  },
  {
   "cell_type": "code",
   "execution_count": null,
   "metadata": {},
   "outputs": [],
   "source": []
  },
  {
   "cell_type": "code",
   "execution_count": 85,
   "metadata": {},
   "outputs": [
    {
     "data": {
      "text/plain": [
       "'[0.8]'"
      ]
     },
     "execution_count": 85,
     "metadata": {},
     "output_type": "execute_result"
    }
   ],
   "source": [
    "headers = {'Content-Type': 'application/json; charset=UTF-8'}\n",
    "data = '{ \"user_id\":\"pupkin_zalupkin\"}'\n",
    "local = 'http://127.0.0.1:5000/get_user_accuracy_record'\n",
    "remote = 'http://84.201.188.33:5000/get_user_accuracy_record'\n",
    "response = requests.get(remote, headers=headers, data=data)\n",
    "response.text"
   ]
  },
  {
   "cell_type": "code",
   "execution_count": null,
   "metadata": {},
   "outputs": [],
   "source": []
  },
  {
   "cell_type": "code",
   "execution_count": 11,
   "metadata": {},
   "outputs": [],
   "source": [
    "from collections import OrderedDict"
   ]
  },
  {
   "cell_type": "code",
   "execution_count": 12,
   "metadata": {},
   "outputs": [],
   "source": [
    "answer_dict = {\n",
    "    \"user_id\":\"pupkin_zalupkin\",\n",
    "    \"answers\": {0: OrderedDict([(0, True), (2, False), (5, False)]),\n",
    "    17: OrderedDict([(0, False),\n",
    "                 (2, False),\n",
    "                 (4, False),\n",
    "                 (8, True),\n",
    "                 (10, False),\n",
    "                 (12, False)]),\n",
    "    26: OrderedDict([(0, False), (5, True), (7, True), (13, False)]),\n",
    "    32: OrderedDict([(3, True), (5, True), (14, False), (18, False)]),\n",
    "    98: OrderedDict([(0, True), (4, True), (5, True), (8, False)]),\n",
    "    121: OrderedDict([#(0, True),вопрос проебан просто не вставлен в тест!!!!\n",
    "                 (1, True),\n",
    "                 (3, False),\n",
    "                 (4, True),\n",
    "                 (6, False),\n",
    "                 (11, True)]),\n",
    "    130: OrderedDict([(0, True),\n",
    "                 (1, False),\n",
    "                # (3, True),вопрос проебан просто не вставлен в тест!!!!\n",
    "                 (4, False),\n",
    "                 (5, False),\n",
    "                 (8, False),\n",
    "                 (9, True),\n",
    "                 (16, True)]),\n",
    "    133: OrderedDict([(2, False),\n",
    "                 (6, False),\n",
    "                 (8, False),\n",
    "                 (9, False),\n",
    "                 (18, False),\n",
    "                 (20, False),\n",
    "                 (40, True),\n",
    "                 (49, False)]),\n",
    "    200: OrderedDict([(0, False),(2, False), (4, False), (10, True), (12, True)]),\n",
    "    231: OrderedDict([(2, False), (4, True), (7, False), (12, False)]),\n",
    "    240: OrderedDict([(1, True), (11, False), (15, False)]),\n",
    "    316: OrderedDict([(0, True), (5, False), (7, False), (11, True)]),\n",
    "    331: OrderedDict([(2, False), (4, False), (10, False)]),\n",
    "    334: OrderedDict([(1, False), (2, False), (5, True), (8, False)]),\n",
    "    336: OrderedDict([(1, True), (7, True), (10, True), (13, True)]),\n",
    "    366: OrderedDict([(0, True),\n",
    "                 (1, False),\n",
    "                 (5, False),\n",
    "                 (8, False),\n",
    "                 (10, True),\n",
    "                 (11, True),\n",
    "                 (15, False)]),\n",
    "    371: OrderedDict([(0, False),\n",
    "                 (2, False),\n",
    "                 (3, False),\n",
    "                 (6, False),\n",
    "                 (12, False),\n",
    "                 (21, False)])}\n",
    "                 }"
   ]
  },
  {
   "cell_type": "code",
   "execution_count": 19,
   "metadata": {},
   "outputs": [],
   "source": [
    "dic = {\"answer_dict\":answer_dict['user_id'],\"answers\": {0: {0:True, 2:False, 5:False}}}\n"
   ]
  },
  {
   "cell_type": "code",
   "execution_count": 20,
   "metadata": {
    "scrolled": true
   },
   "outputs": [
    {
     "data": {
      "text/plain": [
       "{'answer_dict': 'pupkin_zalupkin',\n",
       " 'answers': {0: {0: True, 2: False, 5: False}}}"
      ]
     },
     "execution_count": 20,
     "metadata": {},
     "output_type": "execute_result"
    }
   ],
   "source": [
    "dic"
   ]
  },
  {
   "cell_type": "code",
   "execution_count": 93,
   "metadata": {},
   "outputs": [],
   "source": [
    "from sklearn.metrics.pairwise import cosine_similarity\n",
    "import numpy as np"
   ]
  },
  {
   "cell_type": "code",
   "execution_count": 95,
   "metadata": {},
   "outputs": [],
   "source": [
    "base = np.array([-0.123, 0.432, 1.453, -0.003])"
   ]
  },
  {
   "cell_type": "code",
   "execution_count": 96,
   "metadata": {},
   "outputs": [],
   "source": [
    "b = np.array([0, 0 ,0 ,0 ,0 ,0 ,0, 1])"
   ]
  },
  {
   "cell_type": "code",
   "execution_count": 98,
   "metadata": {},
   "outputs": [
    {
     "ename": "ValueError",
     "evalue": "Incompatible dimension for X and Y matrices: X.shape[1] == 4 while Y.shape[1] == 8",
     "output_type": "error",
     "traceback": [
      "\u001b[0;31m---------------------------------------------------------------------------\u001b[0m",
      "\u001b[0;31mValueError\u001b[0m                                Traceback (most recent call last)",
      "\u001b[0;32m<ipython-input-98-49e356796539>\u001b[0m in \u001b[0;36m<module>\u001b[0;34m\u001b[0m\n\u001b[0;32m----> 1\u001b[0;31m \u001b[0mcosine_similarity\u001b[0m\u001b[0;34m(\u001b[0m\u001b[0mbase\u001b[0m\u001b[0;34m.\u001b[0m\u001b[0mreshape\u001b[0m\u001b[0;34m(\u001b[0m\u001b[0;36m1\u001b[0m\u001b[0;34m,\u001b[0m \u001b[0;34m-\u001b[0m\u001b[0;36m1\u001b[0m\u001b[0;34m)\u001b[0m\u001b[0;34m,\u001b[0m \u001b[0mb\u001b[0m\u001b[0;34m.\u001b[0m\u001b[0mreshape\u001b[0m\u001b[0;34m(\u001b[0m\u001b[0;36m1\u001b[0m\u001b[0;34m,\u001b[0m \u001b[0;34m-\u001b[0m\u001b[0;36m1\u001b[0m\u001b[0;34m)\u001b[0m\u001b[0;34m)\u001b[0m\u001b[0;34m\u001b[0m\u001b[0;34m\u001b[0m\u001b[0m\n\u001b[0m",
      "\u001b[0;32m~/env/lib/python3.7/site-packages/sklearn/metrics/pairwise.py\u001b[0m in \u001b[0;36mcosine_similarity\u001b[0;34m(X, Y, dense_output)\u001b[0m\n\u001b[1;32m   1025\u001b[0m     \u001b[0;31m# to avoid recursive import\u001b[0m\u001b[0;34m\u001b[0m\u001b[0;34m\u001b[0m\u001b[0;34m\u001b[0m\u001b[0m\n\u001b[1;32m   1026\u001b[0m \u001b[0;34m\u001b[0m\u001b[0m\n\u001b[0;32m-> 1027\u001b[0;31m     \u001b[0mX\u001b[0m\u001b[0;34m,\u001b[0m \u001b[0mY\u001b[0m \u001b[0;34m=\u001b[0m \u001b[0mcheck_pairwise_arrays\u001b[0m\u001b[0;34m(\u001b[0m\u001b[0mX\u001b[0m\u001b[0;34m,\u001b[0m \u001b[0mY\u001b[0m\u001b[0;34m)\u001b[0m\u001b[0;34m\u001b[0m\u001b[0;34m\u001b[0m\u001b[0m\n\u001b[0m\u001b[1;32m   1028\u001b[0m \u001b[0;34m\u001b[0m\u001b[0m\n\u001b[1;32m   1029\u001b[0m     \u001b[0mX_normalized\u001b[0m \u001b[0;34m=\u001b[0m \u001b[0mnormalize\u001b[0m\u001b[0;34m(\u001b[0m\u001b[0mX\u001b[0m\u001b[0;34m,\u001b[0m \u001b[0mcopy\u001b[0m\u001b[0;34m=\u001b[0m\u001b[0;32mTrue\u001b[0m\u001b[0;34m)\u001b[0m\u001b[0;34m\u001b[0m\u001b[0;34m\u001b[0m\u001b[0m\n",
      "\u001b[0;32m~/env/lib/python3.7/site-packages/sklearn/metrics/pairwise.py\u001b[0m in \u001b[0;36mcheck_pairwise_arrays\u001b[0;34m(X, Y, precomputed, dtype)\u001b[0m\n\u001b[1;32m    123\u001b[0m         raise ValueError(\"Incompatible dimension for X and Y matrices: \"\n\u001b[1;32m    124\u001b[0m                          \"X.shape[1] == %d while Y.shape[1] == %d\" % (\n\u001b[0;32m--> 125\u001b[0;31m                              X.shape[1], Y.shape[1]))\n\u001b[0m\u001b[1;32m    126\u001b[0m \u001b[0;34m\u001b[0m\u001b[0m\n\u001b[1;32m    127\u001b[0m     \u001b[0;32mreturn\u001b[0m \u001b[0mX\u001b[0m\u001b[0;34m,\u001b[0m \u001b[0mY\u001b[0m\u001b[0;34m\u001b[0m\u001b[0;34m\u001b[0m\u001b[0m\n",
      "\u001b[0;31mValueError\u001b[0m: Incompatible dimension for X and Y matrices: X.shape[1] == 4 while Y.shape[1] == 8"
     ]
    }
   ],
   "source": [
    "cosine_similarity(base.reshape(1, -1), b.reshape(1, -1))"
   ]
  }
 ],
 "metadata": {
  "kernelspec": {
   "display_name": "Python 3",
   "language": "python",
   "name": "python3"
  },
  "language_info": {
   "codemirror_mode": {
    "name": "ipython",
    "version": 3
   },
   "file_extension": ".py",
   "mimetype": "text/x-python",
   "name": "python",
   "nbconvert_exporter": "python",
   "pygments_lexer": "ipython3",
   "version": "3.7.3"
  }
 },
 "nbformat": 4,
 "nbformat_minor": 2
}
